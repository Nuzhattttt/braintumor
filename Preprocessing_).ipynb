{
  "nbformat": 4,
  "nbformat_minor": 0,
  "metadata": {
    "colab": {
      "provenance": []
    },
    "kernelspec": {
      "name": "python3",
      "display_name": "Python 3"
    },
    "language_info": {
      "name": "python"
    }
  },
  "cells": [
    {
      "cell_type": "code",
      "execution_count": null,
      "metadata": {
        "colab": {
          "base_uri": "https://localhost:8080/"
        },
        "id": "RXvLJ53w6IqC",
        "outputId": "269c1c5f-b5de-445e-b2d9-9f87a17efd73"
      },
      "outputs": [
        {
          "output_type": "stream",
          "name": "stdout",
          "text": [
            "Drive already mounted at /content/gdrive; to attempt to forcibly remount, call drive.mount(\"/content/gdrive\", force_remount=True).\n"
          ]
        }
      ],
      "source": [
        "from google.colab import drive\n",
        "drive.mount('/content/gdrive')"
      ]
    },
    {
      "cell_type": "code",
      "source": [
        "import os\n",
        "import numpy as np\n",
        "from PIL import Image\n",
        "from sklearn.preprocessing import LabelEncoder\n",
        "from PIL import Image\n"
      ],
      "metadata": {
        "id": "PpSYiS908uQ8"
      },
      "execution_count": null,
      "outputs": []
    },
    {
      "cell_type": "code",
      "source": [
        "\n",
        "train_directory = '/content/gdrive/MyDrive/Amar dataset/dataset/Training'\n",
        "test_directory = '/content/gdrive/MyDrive/Amar dataset/dataset/Testing'"
      ],
      "metadata": {
        "id": "RjfPdAX6xn0F"
      },
      "execution_count": null,
      "outputs": []
    },
    {
      "cell_type": "code",
      "source": [
        "image_size = (128, 128)\n",
        "train_images = []\n",
        "train_labels = []\n",
        "test_images = []\n",
        "test_labels = []"
      ],
      "metadata": {
        "id": "lPR2KR2rxno6"
      },
      "execution_count": null,
      "outputs": []
    },
    {
      "cell_type": "code",
      "source": [
        "def load_and_preprocess_images(directory, images_list, labels_list):\n",
        "    for class_name in os.listdir(directory):\n",
        "        class_directory = os.path.join(directory, class_name)\n",
        "\n",
        "        for filename in os.listdir(class_directory):\n",
        "            if filename.endswith('.jpg') or filename.endswith('.png'):\n",
        "                image_path = os.path.join(class_directory, filename)\n",
        "                image = Image.open(image_path).convert(\"RGB\")\n",
        "                image = image.resize(image_size, Image.LANCZOS)\n",
        "                images_list.append(image)\n",
        "                labels_list.append(class_name)\n"
      ],
      "metadata": {
        "id": "UhsdO0Gc0_sH"
      },
      "execution_count": null,
      "outputs": []
    },
    {
      "cell_type": "code",
      "source": [
        "load_and_preprocess_images(train_directory, train_images, train_labels)\n"
      ],
      "metadata": {
        "id": "DbPXRf6g1bma"
      },
      "execution_count": null,
      "outputs": []
    },
    {
      "cell_type": "code",
      "source": [
        "load_and_preprocess_images(test_directory, test_images, test_labels)\n"
      ],
      "metadata": {
        "id": "vu1enbJ02OEk"
      },
      "execution_count": null,
      "outputs": []
    },
    {
      "cell_type": "code",
      "source": [
        "label_encoder = LabelEncoder()\n",
        "train_encoded_labels = label_encoder.fit_transform(train_labels)\n",
        "test_encoded_labels = label_encoder.transform(test_labels)"
      ],
      "metadata": {
        "id": "3nuhfHQx2nk-"
      },
      "execution_count": null,
      "outputs": []
    },
    {
      "cell_type": "code",
      "source": [
        "X_train = np.array([np.array(img) for img in train_images])\n",
        "y_train = np.array(train_encoded_labels)\n",
        "X_test = np.array([np.array(img) for img in test_images])\n",
        "y_test = np.array(test_encoded_labels)\n"
      ],
      "metadata": {
        "id": "9auYL7pX3-rV"
      },
      "execution_count": null,
      "outputs": []
    },
    {
      "cell_type": "code",
      "source": [
        "print(\"X_train shape:\", X_train.shape)\n",
        "print(\"y_train shape:\", y_train.shape)\n",
        "print(\"X_test shape:\", X_test.shape)\n",
        "print(\"y_test shape:\", y_test.shape)\n"
      ],
      "metadata": {
        "colab": {
          "base_uri": "https://localhost:8080/"
        },
        "id": "CePHIht6BbHJ",
        "outputId": "87b04045-9e04-4e16-d261-07cbde1451b2"
      },
      "execution_count": null,
      "outputs": [
        {
          "output_type": "stream",
          "name": "stdout",
          "text": [
            "X_train shape: (5722, 128, 128, 3)\n",
            "y_train shape: (5722,)\n",
            "X_test shape: (1311, 128, 128, 3)\n",
            "y_test shape: (1311,)\n"
          ]
        }
      ]
    }
  ]
}