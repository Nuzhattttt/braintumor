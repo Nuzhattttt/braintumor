{
  "nbformat": 4,
  "nbformat_minor": 0,
  "metadata": {
    "colab": {
      "provenance": [],
      "authorship_tag": "ABX9TyOWdvJSLDDi83cnxsMGd4gn",
      "include_colab_link": true
    },
    "kernelspec": {
      "name": "python3",
      "display_name": "Python 3"
    },
    "language_info": {
      "name": "python"
    }
  },
  "cells": [
    {
      "cell_type": "markdown",
      "metadata": {
        "id": "view-in-github",
        "colab_type": "text"
      },
      "source": [
        "<a href=\"https://colab.research.google.com/github/Nuzhattttt/braintumor/blob/main/CNN_without_FL.ipynb\" target=\"_parent\"><img src=\"https://colab.research.google.com/assets/colab-badge.svg\" alt=\"Open In Colab\"/></a>"
      ]
    },
    {
      "cell_type": "code",
      "source": [
        "from google.colab import drive\n",
        "drive.mount('/content/gdrive')"
      ],
      "metadata": {
        "colab": {
          "base_uri": "https://localhost:8080/"
        },
        "id": "VXiqaJwNeYLk",
        "outputId": "f4f654c8-a012-45a7-d5ba-7891db69163a"
      },
      "execution_count": 2,
      "outputs": [
        {
          "output_type": "stream",
          "name": "stdout",
          "text": [
            "Mounted at /content/gdrive\n"
          ]
        }
      ]
    },
    {
      "cell_type": "code",
      "source": [
        "import os\n",
        "import numpy as np\n",
        "from PIL import Image\n",
        "from sklearn.preprocessing import LabelEncoder\n",
        "from PIL import Image\n",
        "from tensorflow.keras.preprocessing.image import ImageDataGenerator"
      ],
      "metadata": {
        "id": "IN13jmueefvR"
      },
      "execution_count": 3,
      "outputs": []
    },
    {
      "cell_type": "code",
      "source": [
        "\n",
        "train_directory = '/content/gdrive/MyDrive/Amar dataset/dataset/Training'\n",
        "test_directory = '/content/gdrive/MyDrive/Amar dataset/dataset/Testing'"
      ],
      "metadata": {
        "id": "PnAV58vqej-K"
      },
      "execution_count": 4,
      "outputs": []
    },
    {
      "cell_type": "code",
      "source": [
        "image_size = (128, 128)\n",
        "train_images = []\n",
        "train_labels = []\n",
        "test_images = []\n",
        "test_labels = []\n"
      ],
      "metadata": {
        "id": "iR0o5mCpelkI"
      },
      "execution_count": 6,
      "outputs": []
    },
    {
      "cell_type": "code",
      "source": [
        "\n",
        "def load_and_preprocess_images(directory, images_list, labels_list):\n",
        "    for class_name in os.listdir(directory):\n",
        "        class_directory = os.path.join(directory, class_name)\n",
        "\n",
        "        for filename in os.listdir(class_directory):\n",
        "            if filename.endswith('.jpg') or filename.endswith('.png'):\n",
        "                image_path = os.path.join(class_directory, filename)\n",
        "                image = Image.open(image_path).convert(\"RGB\")\n",
        "                image = image.resize(image_size, Image.LANCZOS)\n",
        "                images_list.append(image)\n",
        "                labels_list.append(class_name)"
      ],
      "metadata": {
        "id": "MSGM7FUwesfC"
      },
      "execution_count": 7,
      "outputs": []
    },
    {
      "cell_type": "code",
      "source": [
        "load_and_preprocess_images(train_directory, train_images, train_labels)"
      ],
      "metadata": {
        "id": "iGt-T2XDWFKc"
      },
      "execution_count": 8,
      "outputs": []
    },
    {
      "cell_type": "code",
      "source": [
        "load_and_preprocess_images(test_directory, test_images, test_labels)"
      ],
      "metadata": {
        "id": "Iuwv3GfWWNLr"
      },
      "execution_count": 9,
      "outputs": []
    },
    {
      "cell_type": "code",
      "source": [
        "\n",
        "label_encoder = LabelEncoder()\n",
        "train_encoded_labels = label_encoder.fit_transform(train_labels)\n",
        "test_encoded_labels = label_encoder.transform(test_labels)"
      ],
      "metadata": {
        "id": "s4WXsvHNgSM0"
      },
      "execution_count": 10,
      "outputs": []
    },
    {
      "cell_type": "code",
      "source": [
        "\n",
        "datagen = ImageDataGenerator(\n",
        "    rotation_range=20,\n",
        "    width_shift_range=0.2,\n",
        "    height_shift_range=0.2,\n",
        "    shear_range=0.2,\n",
        "    zoom_range=0.2,\n",
        "    horizontal_flip=True,\n",
        "    fill_mode='nearest'\n",
        ")"
      ],
      "metadata": {
        "id": "jlzOcjTmgd6R"
      },
      "execution_count": 11,
      "outputs": []
    },
    {
      "cell_type": "code",
      "source": [
        "X_train = np.array([np.array(img) for img in train_images])\n",
        "y_train = np.array(train_encoded_labels)"
      ],
      "metadata": {
        "id": "HYmcbxDJg24S"
      },
      "execution_count": 12,
      "outputs": []
    },
    {
      "cell_type": "code",
      "source": [
        "augmented_images = []\n",
        "\n",
        "for image in X_train:\n",
        "    augmented_image = datagen.random_transform(image)\n",
        "    augmented_images.append(augmented_image)"
      ],
      "metadata": {
        "id": "mh9JgdF9g65m"
      },
      "execution_count": 13,
      "outputs": []
    },
    {
      "cell_type": "code",
      "source": [
        "\n",
        "X_train_augmented = np.array(augmented_images)\n",
        "X_test = np.array([np.array(img) for img in test_images])\n",
        "y_test = np.array(test_encoded_labels)\n"
      ],
      "metadata": {
        "id": "1ssT-QZbg_9A"
      },
      "execution_count": 14,
      "outputs": []
    },
    {
      "cell_type": "code",
      "execution_count": 15,
      "metadata": {
        "colab": {
          "base_uri": "https://localhost:8080/"
        },
        "id": "Yi_ff79qbbHr",
        "outputId": "8125bb9d-c592-4f76-f8e0-f35ec5190676"
      },
      "outputs": [
        {
          "output_type": "stream",
          "name": "stdout",
          "text": [
            "X_train shape: (5722, 128, 128, 3)\n",
            "y_train shape: (5722,)\n",
            "X_test shape: (1311, 128, 128, 3)\n",
            "y_test shape: (1311,)\n"
          ]
        }
      ],
      "source": [
        "print(\"X_train shape:\", X_train.shape)\n",
        "print(\"y_train shape:\", y_train.shape)\n",
        "print(\"X_test shape:\", X_test.shape)\n",
        "print(\"y_test shape:\", y_test.shape)\n"
      ]
    },
    {
      "cell_type": "code",
      "source": [
        "import tensorflow as tf\n",
        "from tensorflow.keras import layers\n",
        "from tensorflow.keras.models import Sequential\n",
        "from tensorflow.keras.optimizers import Adam\n",
        "import matplotlib.pyplot as plt\n",
        "from sklearn.metrics import confusion_matrix, ConfusionMatrixDisplay"
      ],
      "metadata": {
        "id": "PDBJjGo0lnuj"
      },
      "execution_count": 16,
      "outputs": []
    },
    {
      "cell_type": "code",
      "source": [
        "model_CNN = tf.keras.Sequential()\n",
        "model_CNN.add(layers.InputLayer(input_shape=(128, 128, 3)))\n",
        "\n",
        "model_CNN.add(layers.Conv2D(32, (5, 5), activation='relu'))\n",
        "model_CNN.add(layers.MaxPooling2D(pool_size=(2, 2)))\n",
        "model_CNN.add(layers.BatchNormalization())\n",
        "model_CNN.add(layers.Dropout(0.25))\n",
        "\n",
        "model_CNN.add(layers.Conv2D(64, (4, 4), activation='relu'))\n",
        "model_CNN.add(layers.MaxPooling2D(pool_size=(2, 2)))\n",
        "model_CNN.add(layers.BatchNormalization())\n",
        "model_CNN.add(layers.Dropout(0.25))\n",
        "\n",
        "model_CNN.add(layers.Conv2D(128, (3, 3), activation='relu'))\n",
        "model_CNN.add(layers.MaxPooling2D(pool_size=(2, 2)))\n",
        "model_CNN.add(layers.BatchNormalization())\n",
        "model_CNN.add(layers.Dropout(0.25))\n",
        "\n",
        "model_CNN.add(layers.Conv2D(256, (2, 2), activation='relu'))\n",
        "model_CNN.add(layers.MaxPooling2D(pool_size=(2, 2)))\n",
        "model_CNN.add(layers.BatchNormalization())\n",
        "model_CNN.add(layers.Dropout(0.25))\n",
        "\n",
        "model_CNN.add(layers.Flatten())\n",
        "model_CNN.add(layers.Dense(2048, activation='relu'))\n",
        "model_CNN.add(layers.Dropout(0.25))\n",
        "model_CNN.add(layers.Dense(4, activation='softmax'))\n",
        "\n",
        "optimizer = Adam(learning_rate=0.001, beta_1=0.9, beta_2=0.99)\n",
        "model_CNN.compile(optimizer=optimizer, loss='categorical_crossentropy', metrics=['accuracy'])"
      ],
      "metadata": {
        "id": "p2ynWRbxkwrJ"
      },
      "execution_count": 17,
      "outputs": []
    },
    {
      "cell_type": "code",
      "source": [
        "import time"
      ],
      "metadata": {
        "id": "TYXwHt7WmBMQ"
      },
      "execution_count": 18,
      "outputs": []
    },
    {
      "cell_type": "code",
      "source": [
        "from tensorflow.keras.utils import to_categorical\n",
        "\n",
        "num_classes = 4\n",
        "y_train_encoded = to_categorical(y_train, num_classes=num_classes)\n"
      ],
      "metadata": {
        "id": "yYCf4NxmoLTV"
      },
      "execution_count": 19,
      "outputs": []
    },
    {
      "cell_type": "code",
      "source": [
        "# t1=time.time()\n",
        "history_CNN = model_CNN.fit(\n",
        "    X_train, y_train_encoded,\n",
        "    batch_size=64,\n",
        "    epochs=25,\n",
        ")\n",
        "# t2 = time.time()\n",
        "# print('The training of 30 epochs of the CNN model took', round((t2 - t1) / 60), 'minutes.')"
      ],
      "metadata": {
        "colab": {
          "base_uri": "https://localhost:8080/"
        },
        "id": "biL-kOt4oSvd",
        "outputId": "fe20b5f0-f07d-4182-e538-dccb71da4d93"
      },
      "execution_count": 32,
      "outputs": [
        {
          "output_type": "stream",
          "name": "stdout",
          "text": [
            "Epoch 1/25\n",
            "90/90 [==============================] - 327s 4s/step - loss: 0.0666 - accuracy: 0.9836\n",
            "Epoch 2/25\n",
            "90/90 [==============================] - 331s 4s/step - loss: 0.0606 - accuracy: 0.9841\n",
            "Epoch 3/25\n",
            "90/90 [==============================] - 326s 4s/step - loss: 0.0335 - accuracy: 0.9888\n",
            "Epoch 4/25\n",
            "90/90 [==============================] - 325s 4s/step - loss: 0.0407 - accuracy: 0.9918\n",
            "Epoch 5/25\n",
            "90/90 [==============================] - 328s 4s/step - loss: 0.0410 - accuracy: 0.9893\n",
            "Epoch 6/25\n",
            "90/90 [==============================] - 328s 4s/step - loss: 0.0692 - accuracy: 0.9855\n",
            "Epoch 7/25\n",
            "90/90 [==============================] - 332s 4s/step - loss: 0.0635 - accuracy: 0.9869\n",
            "Epoch 8/25\n",
            "90/90 [==============================] - 327s 4s/step - loss: 0.0386 - accuracy: 0.9902\n",
            "Epoch 9/25\n",
            "90/90 [==============================] - 326s 4s/step - loss: 0.0200 - accuracy: 0.9934\n",
            "Epoch 10/25\n",
            "90/90 [==============================] - 325s 4s/step - loss: 0.0147 - accuracy: 0.9956\n",
            "Epoch 11/25\n",
            "90/90 [==============================] - 321s 4s/step - loss: 0.0424 - accuracy: 0.9876\n",
            "Epoch 12/25\n",
            "90/90 [==============================] - 327s 4s/step - loss: 0.0481 - accuracy: 0.9885\n",
            "Epoch 13/25\n",
            "90/90 [==============================] - 324s 4s/step - loss: 0.0411 - accuracy: 0.9930\n",
            "Epoch 14/25\n",
            "90/90 [==============================] - 322s 4s/step - loss: 0.0692 - accuracy: 0.9913\n",
            "Epoch 15/25\n",
            "90/90 [==============================] - 327s 4s/step - loss: 0.0477 - accuracy: 0.9914\n",
            "Epoch 16/25\n",
            "90/90 [==============================] - 324s 4s/step - loss: 0.0225 - accuracy: 0.9948\n",
            "Epoch 17/25\n",
            "90/90 [==============================] - 324s 4s/step - loss: 0.0174 - accuracy: 0.9956\n",
            "Epoch 18/25\n",
            "90/90 [==============================] - 330s 4s/step - loss: 0.0461 - accuracy: 0.9914\n",
            "Epoch 19/25\n",
            "90/90 [==============================] - 328s 4s/step - loss: 0.0386 - accuracy: 0.9949\n",
            "Epoch 20/25\n",
            "90/90 [==============================] - 324s 4s/step - loss: 0.0321 - accuracy: 0.9935\n",
            "Epoch 21/25\n",
            "90/90 [==============================] - 325s 4s/step - loss: 0.0221 - accuracy: 0.9953\n",
            "Epoch 22/25\n",
            "90/90 [==============================] - 326s 4s/step - loss: 0.0235 - accuracy: 0.9948\n",
            "Epoch 23/25\n",
            "90/90 [==============================] - 323s 4s/step - loss: 0.0496 - accuracy: 0.9900\n",
            "Epoch 24/25\n",
            "90/90 [==============================] - 327s 4s/step - loss: 0.0430 - accuracy: 0.9916\n",
            "Epoch 25/25\n",
            "90/90 [==============================] - 330s 4s/step - loss: 0.0176 - accuracy: 0.9962\n"
          ]
        }
      ]
    },
    {
      "cell_type": "code",
      "source": [
        "model_CNN.save('CNN_25epochs')"
      ],
      "metadata": {
        "id": "_0Kf9Fn6wNWd"
      },
      "execution_count": 34,
      "outputs": []
    },
    {
      "cell_type": "code",
      "source": [
        "from tensorflow.keras.utils import to_categorical\n",
        "num_classes = 4\n",
        "y_test_encoded = to_categorical(y_test, num_classes=num_classes)\n"
      ],
      "metadata": {
        "id": "AxFEaJtFKTYa"
      },
      "execution_count": 35,
      "outputs": []
    },
    {
      "cell_type": "code",
      "source": [
        "val_loss_CNN, val_accuracy_CNN = model_CNN.evaluate(X_test, y_test_encoded)\n"
      ],
      "metadata": {
        "colab": {
          "base_uri": "https://localhost:8080/"
        },
        "id": "pbq_gkFf5A1S",
        "outputId": "2af84bb1-8aa4-4b82-b94c-de0187a40dce"
      },
      "execution_count": 36,
      "outputs": [
        {
          "output_type": "stream",
          "name": "stdout",
          "text": [
            "41/41 [==============================] - 19s 462ms/step - loss: 0.2110 - accuracy: 0.9695\n"
          ]
        }
      ]
    },
    {
      "cell_type": "code",
      "source": [
        "plt.plot(history_CNN.history[\"loss\"], c=\"red\")\n",
        "plt.plot(history_CNN.history[\"accuracy\"], c=\"green\")\n",
        "plt.title(\"Loss and Accuracy in the CNN Model\")\n",
        "plt.ylabel(\"Loss/Accuracy\")\n",
        "plt.xlabel(\"Epochs\")\n",
        "plt.legend(['loss', 'accuracy'])\n",
        "plt.show()"
      ],
      "metadata": {
        "colab": {
          "base_uri": "https://localhost:8080/",
          "height": 472
        },
        "id": "S7WIm7G5RhWF",
        "outputId": "19b41f04-fa50-4f55-b95d-97cd6fcf81df"
      },
      "execution_count": 37,
      "outputs": [
        {
          "output_type": "display_data",
          "data": {
            "text/plain": [
              "<Figure size 640x480 with 1 Axes>"
            ],
            "image/png": "[encoded data removed]"
          },
          "metadata": {}
        }
      ]
    },
    {
      "cell_type": "code",
      "source": [
        "predictions_CNN = np.argmax(model_CNN.predict(X_test), axis=1)\n",
        "disp_CNN = ConfusionMatrixDisplay(confusion_matrix(y_test, predictions_CNN))\n",
        "disp_CNN.plot()\n",
        "disp_CNN.ax_.set_title(\"Confusion matrix for the CNN model.\")\n",
        "plt.show()\n"
      ],
      "metadata": {
        "colab": {
          "base_uri": "https://localhost:8080/",
          "height": 489
        },
        "id": "GTD4fuud4jVg",
        "outputId": "b3350d9a-52cb-4bbb-de12-1c1dd5f18380"
      },
      "execution_count": 38,
      "outputs": [
        {
          "output_type": "stream",
          "name": "stdout",
          "text": [
            "41/41 [==============================] - 18s 441ms/step\n"
          ]
        },
        {
          "output_type": "display_data",
          "data": {
            "text/plain": [
              "<Figure size 640x480 with 2 Axes>"
            ],
            "image/png": "[encoded data removed]"
          },
          "metadata": {}
        }
      ]
    }
  ]
}