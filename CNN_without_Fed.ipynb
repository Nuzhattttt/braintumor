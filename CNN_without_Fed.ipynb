{
  "nbformat": 4,
  "nbformat_minor": 0,
  "metadata": {
    "colab": {
      "provenance": [],
      "authorship_tag": "ABX9TyMTG2wRHbAWgXIk2lgPTMBi",
      "include_colab_link": true
    },
    "kernelspec": {
      "name": "python3",
      "display_name": "Python 3"
    },
    "language_info": {
      "name": "python"
    },
    "accelerator": "TPU"
  },
  "cells": [
    {
      "cell_type": "markdown",
      "metadata": {
        "id": "view-in-github",
        "colab_type": "text"
      },
      "source": [
        "<a href=\"https://colab.research.google.com/github/Nuzhattttt/braintumor/blob/main/CNN_without_Fed.ipynb\" target=\"_parent\"><img src=\"https://colab.research.google.com/assets/colab-badge.svg\" alt=\"Open In Colab\"/></a>"
      ]
    },
    {
      "cell_type": "code",
      "source": [
        "from google.colab import drive\n",
        "drive.mount('/content/gdrive')"
      ],
      "metadata": {
        "id": "VXiqaJwNeYLk",
        "colab": {
          "base_uri": "https://localhost:8080/"
        },
        "outputId": "74dbec42-c153-47f0-8dc0-2e14dbd51fed"
      },
      "execution_count": 2,
      "outputs": [
        {
          "output_type": "stream",
          "name": "stdout",
          "text": [
            "Mounted at /content/gdrive\n"
          ]
        }
      ]
    },
    {
      "cell_type": "code",
      "source": [
        "import os\n",
        "import numpy as np\n",
        "from PIL import Image\n",
        "from sklearn.preprocessing import LabelEncoder\n",
        "from PIL import Image\n",
        "from tensorflow.keras.preprocessing.image import ImageDataGenerator"
      ],
      "metadata": {
        "id": "IN13jmueefvR"
      },
      "execution_count": 3,
      "outputs": []
    },
    {
      "cell_type": "code",
      "source": [
        "train_directory = '/content/gdrive/MyDrive/Amar dataset/dataset/Training'\n",
        "test_directory = '/content/gdrive/MyDrive/Amar dataset/dataset/Testing'"
      ],
      "metadata": {
        "id": "PnAV58vqej-K"
      },
      "execution_count": 4,
      "outputs": []
    },
    {
      "cell_type": "code",
      "source": [
        "image_size = (128, 128)\n",
        "train_images = []\n",
        "train_labels = []\n",
        "test_images = []\n",
        "test_labels = []\n"
      ],
      "metadata": {
        "id": "iR0o5mCpelkI"
      },
      "execution_count": 5,
      "outputs": []
    },
    {
      "cell_type": "code",
      "source": [
        "def load_and_preprocess_images(directory, images_list, labels_list):\n",
        "    for class_name in os.listdir(directory):\n",
        "        class_directory = os.path.join(directory, class_name)\n",
        "\n",
        "        for filename in os.listdir(class_directory):\n",
        "            if filename.endswith('.jpg') or filename.endswith('.png'):\n",
        "                image_path = os.path.join(class_directory, filename)\n",
        "                image = Image.open(image_path).convert(\"RGB\")\n",
        "                image = image.resize(image_size, Image.LANCZOS)\n",
        "                images_list.append(image)\n",
        "                labels_list.append(class_name)"
      ],
      "metadata": {
        "id": "MSGM7FUwesfC"
      },
      "execution_count": 6,
      "outputs": []
    },
    {
      "cell_type": "code",
      "source": [
        "load_and_preprocess_images(train_directory, train_images, train_labels)"
      ],
      "metadata": {
        "id": "iGt-T2XDWFKc"
      },
      "execution_count": 7,
      "outputs": []
    },
    {
      "cell_type": "code",
      "source": [
        "load_and_preprocess_images(test_directory, test_images, test_labels)"
      ],
      "metadata": {
        "id": "Iuwv3GfWWNLr"
      },
      "execution_count": 8,
      "outputs": []
    },
    {
      "cell_type": "code",
      "source": [
        "label_encoder = LabelEncoder()\n",
        "train_encoded_labels = label_encoder.fit_transform(train_labels)\n",
        "test_encoded_labels = label_encoder.transform(test_labels)"
      ],
      "metadata": {
        "id": "s4WXsvHNgSM0"
      },
      "execution_count": 9,
      "outputs": []
    },
    {
      "cell_type": "code",
      "source": [
        "datagen = ImageDataGenerator(\n",
        "    rotation_range=20,\n",
        "    width_shift_range=0.2,\n",
        "    height_shift_range=0.2,\n",
        "    shear_range=0.2,\n",
        "    zoom_range=0.2,\n",
        "    horizontal_flip=True,\n",
        "    fill_mode='nearest'\n",
        ")"
      ],
      "metadata": {
        "id": "jlzOcjTmgd6R"
      },
      "execution_count": 10,
      "outputs": []
    },
    {
      "cell_type": "code",
      "source": [
        "X_train = np.array([np.array(img) for img in train_images])\n",
        "y_train = np.array(train_encoded_labels)"
      ],
      "metadata": {
        "id": "HYmcbxDJg24S"
      },
      "execution_count": 11,
      "outputs": []
    },
    {
      "cell_type": "code",
      "source": [
        "augmented_images = []\n",
        "\n",
        "for image in X_train:\n",
        "    augmented_image = datagen.random_transform(image)\n",
        "    augmented_images.append(augmented_image)"
      ],
      "metadata": {
        "id": "mh9JgdF9g65m"
      },
      "execution_count": 12,
      "outputs": []
    },
    {
      "cell_type": "code",
      "source": [
        "\n",
        "X_train_augmented = np.array(augmented_images)\n",
        "X_test = np.array([np.array(img) for img in test_images])\n",
        "y_test = np.array(test_encoded_labels)\n"
      ],
      "metadata": {
        "id": "1ssT-QZbg_9A"
      },
      "execution_count": 13,
      "outputs": []
    },
    {
      "cell_type": "code",
      "execution_count": 14,
      "metadata": {
        "colab": {
          "base_uri": "https://localhost:8080/"
        },
        "id": "Yi_ff79qbbHr",
        "outputId": "13220943-f6a3-4a8d-ab3a-e9611e190855"
      },
      "outputs": [
        {
          "output_type": "stream",
          "name": "stdout",
          "text": [
            "X_train shape: (5722, 128, 128, 3)\n",
            "y_train shape: (5722,)\n",
            "X_test shape: (1311, 128, 128, 3)\n",
            "y_test shape: (1311,)\n"
          ]
        }
      ],
      "source": [
        "print(\"X_train shape:\", X_train.shape)\n",
        "print(\"y_train shape:\", y_train.shape)\n",
        "print(\"X_test shape:\", X_test.shape)\n",
        "print(\"y_test shape:\", y_test.shape)\n"
      ]
    },
    {
      "cell_type": "code",
      "source": [
        "import tensorflow as tf\n",
        "from tensorflow.keras import layers\n",
        "from tensorflow.keras.models import Sequential\n",
        "from tensorflow.keras.optimizers import Adam\n",
        "import matplotlib.pyplot as plt\n",
        "from sklearn.metrics import confusion_matrix, ConfusionMatrixDisplay\n",
        "from tensorflow.keras.layers import Conv2D, MaxPooling2D, Flatten, Dense"
      ],
      "metadata": {
        "id": "PDBJjGo0lnuj"
      },
      "execution_count": 16,
      "outputs": []
    },
    {
      "cell_type": "code",
      "source": [
        "# model_CNN = tf.keras.Sequential()\n",
        "# model_CNN.add(layers.InputLayer(input_shape=(128, 128, 3)))\n",
        "\n",
        "# model_CNN.add(layers.Conv2D(32, (5, 5), activation='relu'))\n",
        "# model_CNN.add(layers.MaxPooling2D(pool_size=(2, 2)))\n",
        "# model_CNN.add(layers.BatchNormalization())\n",
        "# model_CNN.add(layers.Dropout(0.25))\n",
        "\n",
        "# model_CNN.add(layers.Conv2D(64, (4, 4), activation='relu'))\n",
        "# model_CNN.add(layers.MaxPooling2D(pool_size=(2, 2)))\n",
        "# model_CNN.add(layers.BatchNormalization())\n",
        "# model_CNN.add(layers.Dropout(0.25))\n",
        "\n",
        "# model_CNN.add(layers.Conv2D(128, (3, 3), activation='relu'))\n",
        "# model_CNN.add(layers.MaxPooling2D(pool_size=(2, 2)))\n",
        "# model_CNN.add(layers.BatchNormalization())\n",
        "# model_CNN.add(layers.Dropout(0.25))\n",
        "\n",
        "# model_CNN.add(layers.Conv2D(256, (2, 2), activation='relu'))\n",
        "# model_CNN.add(layers.MaxPooling2D(pool_size=(2, 2)))\n",
        "# model_CNN.add(layers.BatchNormalization())\n",
        "# model_CNN.add(layers.Dropout(0.25))\n",
        "\n",
        "# model_CNN.add(layers.Flatten())\n",
        "# model_CNN.add(layers.Dense(2048, activation='relu'))\n",
        "# model_CNN.add(layers.Dropout(0.25))\n",
        "# model_CNN.add(layers.Dense(4, activation='softmax'))\n",
        "\n",
        "# optimizer = Adam(learning_rate=0.001, beta_1=0.9, beta_2=0.99)\n",
        "# model_CNN.compile(optimizer=optimizer, loss='categorical_crossentropy', metrics=['accuracy'])\n",
        "class VGG16:\n",
        "    @staticmethod\n",
        "    def build(shape, classes):\n",
        "        model_CNN = Sequential()\n",
        "        model_CNN.add(Conv2D(input_shape=shape,filters=32,kernel_size=(3,3),padding=\"same\", activation=\"relu\"))\n",
        "        model_CNN.add(Conv2D(filters=32,kernel_size=(3,3),padding=\"same\", activation=\"relu\"))\n",
        "        model_CNN.add(MaxPooling2D(pool_size=(2,2),strides=(2,2)))\n",
        "        model_CNN.add(Conv2D(filters=64, kernel_size=(3,3), padding=\"same\", activation=\"relu\"))\n",
        "        model_CNN.add(Conv2D(filters=128, kernel_size=(3,3), padding=\"same\", activation=\"relu\"))\n",
        "        model_CNN.add(MaxPooling2D(pool_size=(2,2),strides=(2,2)))\n",
        "        model_CNN.add(Conv2D(filters=128, kernel_size=(3,3), padding=\"same\", activation=\"relu\"))\n",
        "        model_CNN.add(Conv2D(filters=128, kernel_size=(3,3), padding=\"same\", activation=\"relu\"))\n",
        "        model_CNN.add(Conv2D(filters=128, kernel_size=(3,3), padding=\"same\", activation=\"relu\"))\n",
        "        model_CNN.add(MaxPooling2D(pool_size=(2,2),strides=(2,2)))\n",
        "        model_CNN.add(Conv2D(filters=256, kernel_size=(3,3), padding=\"same\", activation=\"relu\"))\n",
        "        model_CNN.add(Conv2D(filters=256, kernel_size=(3,3), padding=\"same\", activation=\"relu\"))\n",
        "        model_CNN.add(Conv2D(filters=256, kernel_size=(3,3), padding=\"same\", activation=\"relu\"))\n",
        "        model_CNN.add(MaxPooling2D(pool_size=(2,2),strides=(2,2)))\n",
        "        model_CNN.add(Conv2D(filters=512, kernel_size=(3,3), padding=\"same\", activation=\"relu\"))\n",
        "        model_CNN.add(Conv2D(filters=512, kernel_size=(3,3), padding=\"same\", activation=\"relu\"))\n",
        "        model_CNN.add(Conv2D(filters=512, kernel_size=(3,3), padding=\"same\", activation=\"relu\"))\n",
        "        model_CNN.add(MaxPooling2D(pool_size=(2,2),strides=(2,2)))\n",
        "        model_CNN.add(Flatten())\n",
        "        model_CNN.add(Dense(units=4096,activation=\"relu\"))\n",
        "        model_CNN.add(Dense(units=4096,activation=\"relu\"))\n",
        "        model_CNN.add(Dense(units=classes, activation=\"softmax\"))\n",
        "        return model_CNN"
      ],
      "metadata": {
        "id": "p2ynWRbxkwrJ"
      },
      "execution_count": 28,
      "outputs": []
    },
    {
      "cell_type": "code",
      "source": [
        "from tensorflow.keras.optimizers import Adam\n",
        "from tensorflow.keras.losses import categorical_crossentropy\n",
        "from tensorflow.keras.utils import to_categorical\n",
        "num_classes=4\n",
        "y_train_encoded = to_categorical(y_train, num_classes)\n",
        "y_test_encoded = to_categorical(y_test, num_classes)\n",
        "# Create an instance of the VGG16 model\n",
        "vgg16_model_CNN = VGG16.build(shape=(128, 128, 3), classes=num_classes)\n",
        "optimizer = Adam(learning_rate=0.001)\n",
        "vgg16_model_CNN.compile(optimizer=optimizer, loss=categorical_crossentropy, metrics=['accuracy'])\n",
        "\n",
        "history_CNN = vgg16_model_CNN.fit(\n",
        "    X_train, y_train_encoded,\n",
        "    batch_size=64,\n",
        "    epochs=10,\n",
        ")\n",
        "\n",
        "# Evaluate the model\n",
        "test_loss, test_accuracy = vgg16_model_CNN.evaluate(X_test, y_test_encoded)\n",
        "print(f'Test accuracy: {test_accuracy}')\n"
      ],
      "metadata": {
        "colab": {
          "base_uri": "https://localhost:8080/"
        },
        "id": "acfVhkq3DQ_y",
        "outputId": "d9bacd55-3ea1-4c26-adc1-bf9449716967"
      },
      "execution_count": 18,
      "outputs": [
        {
          "output_type": "stream",
          "name": "stdout",
          "text": [
            "Epoch 1/10\n",
            "90/90 [==============================] - 2027s 22s/step - loss: 3.3277 - accuracy: 0.3464\n",
            "Epoch 2/10\n",
            "90/90 [==============================] - 2015s 22s/step - loss: 0.7011 - accuracy: 0.7106\n",
            "Epoch 3/10\n",
            "90/90 [==============================] - 2008s 22s/step - loss: 0.4380 - accuracy: 0.8403\n",
            "Epoch 4/10\n",
            "90/90 [==============================] - 2006s 22s/step - loss: 0.3229 - accuracy: 0.8841\n",
            "Epoch 5/10\n",
            "90/90 [==============================] - 2007s 22s/step - loss: 0.2740 - accuracy: 0.9009\n",
            "Epoch 6/10\n",
            "90/90 [==============================] - 2008s 22s/step - loss: 0.2290 - accuracy: 0.9163\n",
            "Epoch 7/10\n",
            "90/90 [==============================] - 2014s 22s/step - loss: 0.2054 - accuracy: 0.9271\n",
            "Epoch 8/10\n",
            "90/90 [==============================] - 2014s 22s/step - loss: 0.1961 - accuracy: 0.9294\n",
            "Epoch 9/10\n",
            "90/90 [==============================] - 2011s 22s/step - loss: 0.1543 - accuracy: 0.9437\n",
            "Epoch 10/10\n",
            "90/90 [==============================] - 2012s 22s/step - loss: 0.1269 - accuracy: 0.9539\n",
            "41/41 [==============================] - 117s 3s/step - loss: 0.2821 - accuracy: 0.8970\n",
            "Test accuracy: 0.8970251679420471\n"
          ]
        }
      ]
    },
    {
      "cell_type": "code",
      "source": [
        "import time"
      ],
      "metadata": {
        "id": "TYXwHt7WmBMQ"
      },
      "execution_count": null,
      "outputs": []
    },
    {
      "cell_type": "code",
      "source": [
        "import matplotlib.pyplot as plt\n",
        "plt.plot(history_CNN.history[\"loss\"], c=\"red\")\n",
        "plt.plot(history_CNN.history[\"accuracy\"], c=\"green\")\n",
        "plt.title(\"Loss and Accuracy in the CNN Model\")\n",
        "plt.ylabel(\"Loss/Accuracy\")\n",
        "plt.xlabel(\"Epochs\")\n",
        "plt.legend(['loss', 'accuracy'])\n",
        "plt.show()"
      ],
      "metadata": {
        "colab": {
          "base_uri": "https://localhost:8080/",
          "height": 472
        },
        "id": "S7WIm7G5RhWF",
        "outputId": "5987b32b-5b0c-4590-84df-c5b849bc0ff9"
      },
      "execution_count": 19,
      "outputs": [
        {
          "output_type": "display_data",
          "data": {
            "text/plain": [
              "<Figure size 640x480 with 1 Axes>"
            ],
            "image/png": "[encoded data removed]"
          },
          "metadata": {}
        }
      ]
    },
    {
      "cell_type": "code",
      "source": [
        "predictions_CNN = np.argmax (model_CNN.predict(X_test), axis=1)\n",
        "disp_CNN = ConfusionMatrixDisplay(confusion_matrix(y_test_encoded, predictions_CNN))\n",
        "disp_CNN.plot()\n",
        "disp_CNN.ax_.set_title(\"Confusion matrix for the CNN model.\")\n",
        "plt.show()"
      ],
      "metadata": {
        "colab": {
          "base_uri": "https://localhost:8080/",
          "height": 245
        },
        "id": "GTD4fuud4jVg",
        "outputId": "7d14d4a4-2f72-4c28-c758-358920a8c88a"
      },
      "execution_count": 31,
      "outputs": [
        {
          "output_type": "error",
          "ename": "NameError",
          "evalue": "ignored",
          "traceback": [
            "\u001b[0;31m---------------------------------------------------------------------------\u001b[0m",
            "\u001b[0;31mNameError\u001b[0m                                 Traceback (most recent call last)",
            "\u001b[0;32m<ipython-input-31-e8a177f84169>\u001b[0m in \u001b[0;36m<cell line: 1>\u001b[0;34m()\u001b[0m\n\u001b[0;32m----> 1\u001b[0;31m \u001b[0mpredictions_CNN\u001b[0m \u001b[0;34m=\u001b[0m \u001b[0mnp\u001b[0m\u001b[0;34m.\u001b[0m\u001b[0margmax\u001b[0m \u001b[0;34m(\u001b[0m\u001b[0mmodel_CNN\u001b[0m\u001b[0;34m.\u001b[0m\u001b[0mpredict\u001b[0m\u001b[0;34m(\u001b[0m\u001b[0mX_test\u001b[0m\u001b[0;34m)\u001b[0m\u001b[0;34m,\u001b[0m \u001b[0maxis\u001b[0m\u001b[0;34m=\u001b[0m\u001b[0;36m1\u001b[0m\u001b[0;34m)\u001b[0m\u001b[0;34m\u001b[0m\u001b[0;34m\u001b[0m\u001b[0m\n\u001b[0m\u001b[1;32m      2\u001b[0m \u001b[0mdisp_CNN\u001b[0m \u001b[0;34m=\u001b[0m \u001b[0mConfusionMatrixDisplay\u001b[0m\u001b[0;34m(\u001b[0m\u001b[0mconfusion_matrix\u001b[0m\u001b[0;34m(\u001b[0m\u001b[0my_test_encoded\u001b[0m\u001b[0;34m,\u001b[0m \u001b[0mpredictions_CNN\u001b[0m\u001b[0;34m)\u001b[0m\u001b[0;34m)\u001b[0m\u001b[0;34m\u001b[0m\u001b[0;34m\u001b[0m\u001b[0m\n\u001b[1;32m      3\u001b[0m \u001b[0mdisp_CNN\u001b[0m\u001b[0;34m.\u001b[0m\u001b[0mplot\u001b[0m\u001b[0;34m(\u001b[0m\u001b[0;34m)\u001b[0m\u001b[0;34m\u001b[0m\u001b[0;34m\u001b[0m\u001b[0m\n\u001b[1;32m      4\u001b[0m \u001b[0mdisp_CNN\u001b[0m\u001b[0;34m.\u001b[0m\u001b[0max_\u001b[0m\u001b[0;34m.\u001b[0m\u001b[0mset_title\u001b[0m\u001b[0;34m(\u001b[0m\u001b[0;34m\"Confusion matrix for the CNN model.\"\u001b[0m\u001b[0;34m)\u001b[0m\u001b[0;34m\u001b[0m\u001b[0;34m\u001b[0m\u001b[0m\n\u001b[1;32m      5\u001b[0m \u001b[0mplt\u001b[0m\u001b[0;34m.\u001b[0m\u001b[0mshow\u001b[0m\u001b[0;34m(\u001b[0m\u001b[0;34m)\u001b[0m\u001b[0;34m\u001b[0m\u001b[0;34m\u001b[0m\u001b[0m\n",
            "\u001b[0;31mNameError\u001b[0m: name 'model_CNN' is not defined"
          ]
        }
      ]
    }
  ]
}